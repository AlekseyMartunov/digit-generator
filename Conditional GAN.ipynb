{
 "cells": [
  {
   "cell_type": "code",
   "execution_count": 168,
   "id": "c4467aec",
   "metadata": {},
   "outputs": [],
   "source": [
    "import tensorflow as tf\n",
    "import matplotlib.pyplot as plt\n",
    "import numpy as np\n",
    "\n",
    "from tensorflow.keras.layers import Dense, Input, ReLU, Embedding, Reshape, LeakyReLU, Flatten, Dropout\n",
    "from tensorflow.keras.layers import Concatenate, Conv2DTranspose, BatchNormalization, Conv2D, MaxPool2D\n",
    "from keras.models import Model\n",
    "\n",
    "from tensorflow.keras.datasets import mnist"
   ]
  },
  {
   "cell_type": "code",
   "execution_count": 169,
   "id": "d023fe41",
   "metadata": {},
   "outputs": [],
   "source": []
  },
  {
   "cell_type": "markdown",
   "id": "cd3b8216",
   "metadata": {},
   "source": [
    "# Data preparation"
   ]
  },
  {
   "cell_type": "code",
   "execution_count": 170,
   "id": "28e8a846",
   "metadata": {},
   "outputs": [],
   "source": [
    "(x_train, y_train), (x_test, y_test) = mnist.load_data()\n",
    "\n",
    "x_train = x_train / 255\n",
    "x_test = x_test / 255"
   ]
  },
  {
   "cell_type": "code",
   "execution_count": 171,
   "id": "482a4ff8",
   "metadata": {},
   "outputs": [
    {
     "data": {
      "text/plain": [
       "(60000, 28, 28)"
      ]
     },
     "execution_count": 171,
     "metadata": {},
     "output_type": "execute_result"
    }
   ],
   "source": [
    "x_train.shape"
   ]
  },
  {
   "cell_type": "code",
   "execution_count": 255,
   "id": "82b3a910",
   "metadata": {},
   "outputs": [
    {
     "data": {
      "image/png": "[encoded data removed]",
      "text/plain": [
       "<Figure size 432x288 with 1 Axes>"
      ]
     },
     "metadata": {
      "needs_background": "light"
     },
     "output_type": "display_data"
    }
   ],
   "source": [
    "plt.imshow(x_train[66]);"
   ]
  },
  {
   "cell_type": "code",
   "execution_count": 173,
   "id": "89e53850",
   "metadata": {},
   "outputs": [],
   "source": []
  },
  {
   "cell_type": "code",
   "execution_count": null,
   "id": "5edf8ac3",
   "metadata": {},
   "outputs": [],
   "source": []
  },
  {
   "cell_type": "markdown",
   "id": "937eedc2",
   "metadata": {},
   "source": [
    "# Generator"
   ]
  },
  {
   "cell_type": "code",
   "execution_count": 175,
   "id": "551b5943",
   "metadata": {},
   "outputs": [],
   "source": [
    "input_noise = Input(shape=(10,), name='Input_noise')\n",
    "noise = Dense(7*7*128, activation='ReLU')(input_noise)\n",
    "noise = ReLU()(noise)\n",
    "noise = Reshape((7, 7, 128), name='Reshape_noise')(noise)\n",
    "\n",
    "label_input = Input(shape=(1,))\n",
    "label = Embedding(10, 50)(label_input)\n",
    "label = Dense(7 * 7, activation='ReLU')(label)\n",
    "label = Reshape((7, 7, 1))(label)\n",
    "\n",
    "image = Concatenate()([label, noise])\n",
    "\n",
    "image = Conv2DTranspose(128, kernel_size=(4, 4), strides=(2, 2), padding='same')(image)\n",
    "image = ReLU()(image)\n",
    "image = Conv2DTranspose(128, kernel_size=(3, 3), strides=(2, 2), padding='same')(image)\n",
    "image = ReLU()(image)\n",
    "image = Conv2D(1, kernel_size=(3, 3), activation='sigmoid', padding='same')(image)\n",
    "\n",
    "generator = Model([input_noise, label_input], image, name='Generator')\n"
   ]
  },
  {
   "cell_type": "code",
   "execution_count": null,
   "id": "465289bc",
   "metadata": {},
   "outputs": [],
   "source": []
  },
  {
   "cell_type": "code",
   "execution_count": null,
   "id": "cd47dcdd",
   "metadata": {},
   "outputs": [],
   "source": []
  },
  {
   "cell_type": "markdown",
   "id": "9f428336",
   "metadata": {},
   "source": [
    "# Discriminator "
   ]
  },
  {
   "cell_type": "code",
   "execution_count": 177,
   "id": "fd511045",
   "metadata": {},
   "outputs": [],
   "source": [
    "input_label = Input(shape=(1,))\n",
    "label = Embedding(10, 50)(input_label)\n",
    "label = Dense(28 * 28, activation='ReLU')(label)\n",
    "label = Reshape((28, 28, 1))(label)\n",
    "\n",
    "input_image = Input(shape=(28, 28, 1))\n",
    "\n",
    "concat = Concatenate()([input_image, label])\n",
    "\n",
    "h = Conv2D(64, kernel_size=(3, 3), padding='same')(concat)\n",
    "h = LeakyReLU(alpha=0.2)(h)\n",
    "h = Conv2D(128, kernel_size=(3, 3), padding='same')(h)\n",
    "h = LeakyReLU(alpha=0.2)(h)\n",
    "h = MaxPool2D(pool_size=(3,3), strides=(2,2), padding='valid')(h)\n",
    "h = Flatten()(h)\n",
    "h = Dropout(0.2)(h)\n",
    "h = Dense(1, activation=\"sigmoid\")(h)\n",
    "\n",
    "discriminator = Model([input_image, input_label], h, name='Discriminator')"
   ]
  },
  {
   "cell_type": "code",
   "execution_count": null,
   "id": "02187928",
   "metadata": {},
   "outputs": [],
   "source": []
  },
  {
   "cell_type": "code",
   "execution_count": null,
   "id": "a616d2cc",
   "metadata": {},
   "outputs": [],
   "source": []
  },
  {
   "cell_type": "markdown",
   "id": "12a66c57",
   "metadata": {},
   "source": [
    "# Conditional GAN"
   ]
  },
  {
   "cell_type": "code",
   "execution_count": 179,
   "id": "b65ea2d6",
   "metadata": {},
   "outputs": [],
   "source": [
    "cross_entropy = tf.keras.losses.BinaryCrossentropy(from_logits=True)"
   ]
  },
  {
   "cell_type": "code",
   "execution_count": 192,
   "id": "84ac3a13",
   "metadata": {},
   "outputs": [],
   "source": [
    "def generator_loss(fake):\n",
    "    loss = cross_entropy(tf.ones_like(fake), fake)\n",
    "    return loss"
   ]
  },
  {
   "cell_type": "code",
   "execution_count": 193,
   "id": "14c5e1dc",
   "metadata": {},
   "outputs": [],
   "source": [
    "def discriminator_loss(real, fake):\n",
    "    real_loss = cross_entropy(tf.ones_like(real), real)\n",
    "    fake_loss = cross_entropy(tf.zeros_like(fake), fake)\n",
    "    return real_loss + fake_loss"
   ]
  },
  {
   "cell_type": "code",
   "execution_count": null,
   "id": "40b71bd0",
   "metadata": {},
   "outputs": [],
   "source": [
    "gen_optimizer = tf.keras.optimizers.Adam(0.001)\n",
    "disc_optimizer = tf.keras.optimizers.Adam(0.001)"
   ]
  },
  {
   "cell_type": "code",
   "execution_count": 205,
   "id": "7a2a2508",
   "metadata": {},
   "outputs": [],
   "source": [
    "def train_step(real_images, labels):\n",
    "    noise = tf.random.normal([BATCH_SIZE, 10])\n",
    "    \n",
    "    with tf.GradientTape() as gen_tape, tf.GradientTape() as disc_tape:\n",
    "        generated_images = generator([noise, labels], training=True)\n",
    "        \n",
    "        real_out = discriminator([real_images, labels], training=True)\n",
    "        fake_out = discriminator([generated_images, labels], training=True)\n",
    "        \n",
    "        gen_loss = generator_loss(fake_out)\n",
    "        disc_loss = discriminator_loss(real_out, fake_out)\n",
    "        \n",
    "    gradients_of_gen = gen_tape.gradient(gen_loss, generator.trainable_variables)\n",
    "    gradients_of_disc = disc_tape.gradient(disc_loss, discriminator.trainable_variables)\n",
    "    \n",
    "    gen_optimizer.apply_gradients(zip(gradients_of_gen, generator.trainable_variables))\n",
    "    disc_optimizer.apply_gradients(zip(gradients_of_disc, discriminator.trainable_variables))\n",
    "    \n",
    "    return gen_loss, disc_loss\n",
    "        "
   ]
  },
  {
   "cell_type": "code",
   "execution_count": 206,
   "id": "b976bc95",
   "metadata": {},
   "outputs": [],
   "source": [
    "def train(EPOCHS=20, BATCH_SIZE):\n",
    "    for ep in range(EPOCHS):\n",
    "        for batch in range(len(x_train)//BATCH_SIZE):\n",
    "            start = batch*BATCH_SIZE\n",
    "            end = (batch+1)*BATCH_SIZE\n",
    "            images, labels = x_train[start:end], y_train[start:end]\n",
    "            gen_loss, disc_loss = train_step(images, labels)\n",
    "        print(f\"Завершена Эпоха: {ep}, gen_loss: {gen_loss}, disc_loss: {disc_loss}\")"
   ]
  },
  {
   "cell_type": "code",
   "execution_count": null,
   "id": "cd033494",
   "metadata": {},
   "outputs": [],
   "source": []
  },
  {
   "cell_type": "code",
   "execution_count": null,
   "id": "6674e52b",
   "metadata": {},
   "outputs": [],
   "source": []
  },
  {
   "cell_type": "markdown",
   "id": "5f4d091c",
   "metadata": {},
   "source": [
    "# Model Training"
   ]
  },
  {
   "cell_type": "code",
   "execution_count": null,
   "id": "cc8c9e08",
   "metadata": {},
   "outputs": [],
   "source": []
  },
  {
   "cell_type": "code",
   "execution_count": null,
   "id": "152b0d49",
   "metadata": {},
   "outputs": [],
   "source": [
    "BATCH_SIZE=30\n",
    "train(20, BATCH_SIZE)"
   ]
  },
  {
   "cell_type": "code",
   "execution_count": null,
   "id": "74b91db5",
   "metadata": {},
   "outputs": [],
   "source": []
  },
  {
   "cell_type": "code",
   "execution_count": null,
   "id": "a4a0ae66",
   "metadata": {},
   "outputs": [],
   "source": []
  },
  {
   "cell_type": "markdown",
   "id": "eda119ef",
   "metadata": {},
   "source": [
    "# Test the model"
   ]
  },
  {
   "cell_type": "code",
   "execution_count": null,
   "id": "9bfef5c6",
   "metadata": {},
   "outputs": [],
   "source": [
    "def print_img(pred):\n",
    "    fig = plt.figure(figsize=(20, 20))\n",
    "    columns = 10\n",
    "    rows = 1\n",
    "    for i in range(1, columns*rows +1):\n",
    "        img = pred[i-1]\n",
    "        fig.add_subplot(rows, columns, i)\n",
    "        plt.imshow(img)"
   ]
  },
  {
   "cell_type": "code",
   "execution_count": null,
   "id": "498774f3",
   "metadata": {},
   "outputs": [],
   "source": []
  },
  {
   "cell_type": "code",
   "execution_count": null,
   "id": "534d7399",
   "metadata": {},
   "outputs": [],
   "source": []
  },
  {
   "cell_type": "code",
   "execution_count": 252,
   "id": "d3ab6219",
   "metadata": {},
   "outputs": [
    {
     "name": "stdout",
     "output_type": "stream",
     "text": [
      "WARNING:tensorflow:No training configuration found in save file, so the model was *not* compiled. Compile it manually.\n"
     ]
    }
   ],
   "source": [
    "new_gen = tf.keras.models.load_model('digits_generator')"
   ]
  },
  {
   "cell_type": "code",
   "execution_count": null,
   "id": "ce9eabb6",
   "metadata": {},
   "outputs": [],
   "source": []
  },
  {
   "cell_type": "code",
   "execution_count": 253,
   "id": "5f6c4895",
   "metadata": {},
   "outputs": [
    {
     "name": "stdout",
     "output_type": "stream",
     "text": [
      "1/1 [==============================] - 0s 203ms/step\n"
     ]
    }
   ],
   "source": [
    "x = np.random.rand(10, 10)\n",
    "y = np.asarray([i for i in range(10)])\n",
    "pred = new_gen.predict([x, y])"
   ]
  },
  {
   "cell_type": "code",
   "execution_count": null,
   "id": "82ea1131",
   "metadata": {},
   "outputs": [],
   "source": []
  },
  {
   "cell_type": "code",
   "execution_count": 254,
   "id": "714e72b0",
   "metadata": {},
   "outputs": [
    {
     "data": {
      "image/png": "[encoded data removed]",
      "text/plain": [
       "<Figure size 1440x1440 with 10 Axes>"
      ]
     },
     "metadata": {
      "needs_background": "light"
     },
     "output_type": "display_data"
    }
   ],
   "source": [
    "print_img(pred)"
   ]
  },
  {
   "cell_type": "code",
   "execution_count": null,
   "id": "85f3adbe",
   "metadata": {},
   "outputs": [],
   "source": []
  },
  {
   "cell_type": "code",
   "execution_count": null,
   "id": "96720bf7",
   "metadata": {},
   "outputs": [],
   "source": []
  }
 ],
 "metadata": {
  "kernelspec": {
   "display_name": "Python 3 (ipykernel)",
   "language": "python",
   "name": "python3"
  },
  "language_info": {
   "codemirror_mode": {
    "name": "ipython",
    "version": 3
   },
   "file_extension": ".py",
   "mimetype": "text/x-python",
   "name": "python",
   "nbconvert_exporter": "python",
   "pygments_lexer": "ipython3",
   "version": "3.10.5"
  }
 },
 "nbformat": 4,
 "nbformat_minor": 5
}
